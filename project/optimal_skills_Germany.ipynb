{
 "cells": [
  {
   "cell_type": "code",
   "execution_count": 1,
   "id": "5773d7e7",
   "metadata": {},
   "outputs": [],
   "source": [
    "import pandas as pd\n",
    "import matplotlib.pyplot as plt\n",
    "import seaborn as sns\n",
    "df = pd.read_csv(\"C:\\\\Users\\\\LENOVO\\\\OneDrive\\\\Desktop\\\\data_jobs.csv\")\n",
    "df.job_posted_date = pd.to_datetime(df.job_posted_date)\n",
    "import ast\n",
    "\n",
    "df = df[df[\"job_skills\"].notna()]  # Remove NaNs to avoid errors\n",
    "\n",
    "df[\"job_skills\"] = df[\"job_skills\"].apply(ast.literal_eval)"
   ]
  },
  {
   "cell_type": "code",
   "execution_count": 2,
   "id": "6ace90d4",
   "metadata": {},
   "outputs": [
    {
     "data": {
      "text/html": [
       "<div>\n",
       "<style scoped>\n",
       "    .dataframe tbody tr th:only-of-type {\n",
       "        vertical-align: middle;\n",
       "    }\n",
       "\n",
       "    .dataframe tbody tr th {\n",
       "        vertical-align: top;\n",
       "    }\n",
       "\n",
       "    .dataframe thead th {\n",
       "        text-align: right;\n",
       "    }\n",
       "</style>\n",
       "<table border=\"1\" class=\"dataframe\">\n",
       "  <thead>\n",
       "    <tr style=\"text-align: right;\">\n",
       "      <th></th>\n",
       "      <th>salary_year_avg</th>\n",
       "      <th>job_skills</th>\n",
       "    </tr>\n",
       "  </thead>\n",
       "  <tbody>\n",
       "    <tr>\n",
       "      <th>127888</th>\n",
       "      <td>111175.0</td>\n",
       "      <td>python</td>\n",
       "    </tr>\n",
       "    <tr>\n",
       "      <th>127888</th>\n",
       "      <td>111175.0</td>\n",
       "      <td>javascript</td>\n",
       "    </tr>\n",
       "    <tr>\n",
       "      <th>127888</th>\n",
       "      <td>111175.0</td>\n",
       "      <td>r</td>\n",
       "    </tr>\n",
       "    <tr>\n",
       "      <th>127888</th>\n",
       "      <td>111175.0</td>\n",
       "      <td>sql</td>\n",
       "    </tr>\n",
       "    <tr>\n",
       "      <th>127888</th>\n",
       "      <td>111175.0</td>\n",
       "      <td>go</td>\n",
       "    </tr>\n",
       "  </tbody>\n",
       "</table>\n",
       "</div>"
      ],
      "text/plain": [
       "        salary_year_avg  job_skills\n",
       "127888         111175.0      python\n",
       "127888         111175.0  javascript\n",
       "127888         111175.0           r\n",
       "127888         111175.0         sql\n",
       "127888         111175.0          go"
      ]
     },
     "execution_count": 2,
     "metadata": {},
     "output_type": "execute_result"
    }
   ],
   "source": [
    "df_da_ger = df[(df[\"job_title\"] == \"Data Analyst\") & (df[\"job_country\"] == \"Germany\")].copy()\n",
    "df_da_ger = df_da_ger.dropna(subset=[\"salary_year_avg\"])\n",
    "df_da_ger_exploded = df_da_ger.explode(\"job_skills\")\n",
    "df_da_ger_exploded[[\"salary_year_avg\", \"job_skills\"]].head(5)"
   ]
  },
  {
   "cell_type": "code",
   "execution_count": 3,
   "id": "bbf4c8ec",
   "metadata": {},
   "outputs": [
    {
     "data": {
      "text/html": [
       "<div>\n",
       "<style scoped>\n",
       "    .dataframe tbody tr th:only-of-type {\n",
       "        vertical-align: middle;\n",
       "    }\n",
       "\n",
       "    .dataframe tbody tr th {\n",
       "        vertical-align: top;\n",
       "    }\n",
       "\n",
       "    .dataframe thead th {\n",
       "        text-align: right;\n",
       "    }\n",
       "</style>\n",
       "<table border=\"1\" class=\"dataframe\">\n",
       "  <thead>\n",
       "    <tr style=\"text-align: right;\">\n",
       "      <th></th>\n",
       "      <th>skill_count</th>\n",
       "      <th>median_salary</th>\n",
       "      <th>skill_percent</th>\n",
       "    </tr>\n",
       "    <tr>\n",
       "      <th>job_skills</th>\n",
       "      <th></th>\n",
       "      <th></th>\n",
       "      <th></th>\n",
       "    </tr>\n",
       "  </thead>\n",
       "  <tbody>\n",
       "    <tr>\n",
       "      <th>python</th>\n",
       "      <td>2</td>\n",
       "      <td>111175.0</td>\n",
       "      <td>66.666667</td>\n",
       "    </tr>\n",
       "    <tr>\n",
       "      <th>sql</th>\n",
       "      <td>2</td>\n",
       "      <td>106837.5</td>\n",
       "      <td>66.666667</td>\n",
       "    </tr>\n",
       "    <tr>\n",
       "      <th>atlassian</th>\n",
       "      <td>1</td>\n",
       "      <td>102500.0</td>\n",
       "      <td>33.333333</td>\n",
       "    </tr>\n",
       "    <tr>\n",
       "      <th>flask</th>\n",
       "      <td>1</td>\n",
       "      <td>111175.0</td>\n",
       "      <td>33.333333</td>\n",
       "    </tr>\n",
       "    <tr>\n",
       "      <th>go</th>\n",
       "      <td>1</td>\n",
       "      <td>111175.0</td>\n",
       "      <td>33.333333</td>\n",
       "    </tr>\n",
       "    <tr>\n",
       "      <th>javascript</th>\n",
       "      <td>1</td>\n",
       "      <td>111175.0</td>\n",
       "      <td>33.333333</td>\n",
       "    </tr>\n",
       "    <tr>\n",
       "      <th>pyspark</th>\n",
       "      <td>1</td>\n",
       "      <td>111175.0</td>\n",
       "      <td>33.333333</td>\n",
       "    </tr>\n",
       "    <tr>\n",
       "      <th>r</th>\n",
       "      <td>1</td>\n",
       "      <td>111175.0</td>\n",
       "      <td>33.333333</td>\n",
       "    </tr>\n",
       "    <tr>\n",
       "      <th>react</th>\n",
       "      <td>1</td>\n",
       "      <td>111175.0</td>\n",
       "      <td>33.333333</td>\n",
       "    </tr>\n",
       "    <tr>\n",
       "      <th>tableau</th>\n",
       "      <td>1</td>\n",
       "      <td>102500.0</td>\n",
       "      <td>33.333333</td>\n",
       "    </tr>\n",
       "    <tr>\n",
       "      <th>terminal</th>\n",
       "      <td>1</td>\n",
       "      <td>111175.0</td>\n",
       "      <td>33.333333</td>\n",
       "    </tr>\n",
       "  </tbody>\n",
       "</table>\n",
       "</div>"
      ],
      "text/plain": [
       "            skill_count  median_salary  skill_percent\n",
       "job_skills                                           \n",
       "python                2       111175.0      66.666667\n",
       "sql                   2       106837.5      66.666667\n",
       "atlassian             1       102500.0      33.333333\n",
       "flask                 1       111175.0      33.333333\n",
       "go                    1       111175.0      33.333333\n",
       "javascript            1       111175.0      33.333333\n",
       "pyspark               1       111175.0      33.333333\n",
       "r                     1       111175.0      33.333333\n",
       "react                 1       111175.0      33.333333\n",
       "tableau               1       102500.0      33.333333\n",
       "terminal              1       111175.0      33.333333"
      ]
     },
     "execution_count": 3,
     "metadata": {},
     "output_type": "execute_result"
    }
   ],
   "source": [
    "df_da_skills = df_da_ger_exploded.groupby(\"job_skills\")[\"salary_year_avg\"].agg([\"count\", \"median\"]).sort_values(by=\"count\", ascending=False)\n",
    "df_da_skills = df_da_skills.rename(columns={\"count\": \"skill_count\", \"median\": \"median_salary\"})\n",
    "da_job_count = len(df_da_ger)\n",
    "df_da_skills[\"skill_percent\"] = df_da_skills[\"skill_count\"] / da_job_count *100 \n",
    "skill_percent = 5\n",
    "df_da_skills_high_demand = df_da_skills[df_da_skills[\"skill_percent\"] > skill_percent]\n",
    "df_da_skills_high_demand"
   ]
  },
  {
   "cell_type": "code",
   "execution_count": 16,
   "id": "b74f4bfa",
   "metadata": {},
   "outputs": [
    {
     "name": "stdout",
     "output_type": "stream",
     "text": [
      "Collecting adjustText\n",
      "  Using cached adjustText-1.3.0-py3-none-any.whl.metadata (3.1 kB)\n",
      "Requirement already satisfied: numpy in c:\\users\\lenovo\\anaconda3\\lib\\site-packages (from adjustText) (1.26.4)\n",
      "Requirement already satisfied: matplotlib in c:\\users\\lenovo\\anaconda3\\lib\\site-packages (from adjustText) (3.9.2)\n",
      "Requirement already satisfied: scipy in c:\\users\\lenovo\\anaconda3\\lib\\site-packages (from adjustText) (1.13.1)\n",
      "Requirement already satisfied: contourpy>=1.0.1 in c:\\users\\lenovo\\anaconda3\\lib\\site-packages (from matplotlib->adjustText) (1.2.0)\n",
      "Requirement already satisfied: cycler>=0.10 in c:\\users\\lenovo\\anaconda3\\lib\\site-packages (from matplotlib->adjustText) (0.11.0)\n",
      "Requirement already satisfied: fonttools>=4.22.0 in c:\\users\\lenovo\\anaconda3\\lib\\site-packages (from matplotlib->adjustText) (4.51.0)\n",
      "Requirement already satisfied: kiwisolver>=1.3.1 in c:\\users\\lenovo\\anaconda3\\lib\\site-packages (from matplotlib->adjustText) (1.4.4)\n",
      "Requirement already satisfied: packaging>=20.0 in c:\\users\\lenovo\\anaconda3\\lib\\site-packages (from matplotlib->adjustText) (24.1)\n",
      "Requirement already satisfied: pillow>=8 in c:\\users\\lenovo\\anaconda3\\lib\\site-packages (from matplotlib->adjustText) (10.4.0)\n",
      "Requirement already satisfied: pyparsing>=2.3.1 in c:\\users\\lenovo\\anaconda3\\lib\\site-packages (from matplotlib->adjustText) (3.1.2)\n",
      "Requirement already satisfied: python-dateutil>=2.7 in c:\\users\\lenovo\\anaconda3\\lib\\site-packages (from matplotlib->adjustText) (2.9.0.post0)\n",
      "Requirement already satisfied: six>=1.5 in c:\\users\\lenovo\\anaconda3\\lib\\site-packages (from python-dateutil>=2.7->matplotlib->adjustText) (1.16.0)\n",
      "Using cached adjustText-1.3.0-py3-none-any.whl (13 kB)\n",
      "Installing collected packages: adjustText\n",
      "Successfully installed adjustText-1.3.0\n",
      "Note: you may need to restart the kernel to use updated packages.\n"
     ]
    }
   ],
   "source": [
    "%pip install adjustText"
   ]
  },
  {
   "cell_type": "code",
   "execution_count": 48,
   "id": "a5266f38",
   "metadata": {},
   "outputs": [
    {
     "name": "stdout",
     "output_type": "stream",
     "text": [
      "Index(['skill_count', 'median_salary', 'skill_percent'], dtype='object')\n"
     ]
    }
   ],
   "source": [
    "print(df_da_skills_high_demand.columns)\n"
   ]
  },
  {
   "cell_type": "code",
   "execution_count": 49,
   "id": "5bbf9225",
   "metadata": {},
   "outputs": [
    {
     "name": "stdout",
     "output_type": "stream",
     "text": [
      "8 [ 0.91303847 -0.56056013]\n",
      "10 [-0.2933697 -0.5015377]\n"
     ]
    },
    {
     "data": {
      "image/png": "[encoded data removed]",
      "text/plain": [
       "<Figure size 1200x800 with 1 Axes>"
      ]
     },
     "metadata": {},
     "output_type": "display_data"
    }
   ],
   "source": [
    "from adjustText import adjust_text\n",
    "\n",
    "fig, ax = plt.subplots(figsize=(12, 8))\n",
    "\n",
    "# Scatter plot\n",
    "ax.scatter(df_da_skills_high_demand[\"skill_count\"], df_da_skills_high_demand[\"median_salary\"])\n",
    "\n",
    "# Add skill labels\n",
    "texts = []\n",
    "for skill, row in df_da_skills_high_demand.iterrows():\n",
    "    texts.append(\n",
    "        ax.text(row[\"skill_count\"], row[\"median_salary\"], skill, fontsize=9)\n",
    "    )\n",
    "\n",
    "# Smart label adjustment\n",
    "adjust_text(\n",
    "    texts,\n",
    "    ax=ax,\n",
    "    expand_points=(1.2, 1.2),   # expand space around points\n",
    "    arrowprops=dict(arrowstyle=\"-\", color='gray'),\n",
    "    force_text=(0.2, 0.2),      # increase force to avoid overlap\n",
    "    force_points=(0.1, 0.1),\n",
    "    only_move={'points': 'y', 'text': 'xy'},  # better movement control\n",
    ")\n",
    "\n",
    "# Plot formatting\n",
    "plt.title(\"High Demand Data Analyst Skills\")\n",
    "plt.xlabel(\"Skill Count\")\n",
    "plt.ylabel(\"Median Salary\")\n",
    "plt.grid(True)\n",
    "plt.tight_layout()\n",
    "plt.show()\n",
    "\n",
    "\n",
    "\n",
    "\n",
    "\n",
    "\n"
   ]
  }
 ],
 "metadata": {
  "kernelspec": {
   "display_name": "base",
   "language": "python",
   "name": "python3"
  },
  "language_info": {
   "codemirror_mode": {
    "name": "ipython",
    "version": 3
   },
   "file_extension": ".py",
   "mimetype": "text/x-python",
   "name": "python",
   "nbconvert_exporter": "python",
   "pygments_lexer": "ipython3",
   "version": "3.12.7"
  }
 },
 "nbformat": 4,
 "nbformat_minor": 5
}
